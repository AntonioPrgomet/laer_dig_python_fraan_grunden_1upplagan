{
 "cells": [
  {
   "cell_type": "markdown",
   "id": "99fdf965-6382-4144-b08f-30fea759de05",
   "metadata": {},
   "source": [
    "# Uppgifter, Kapitel 12 - Några centrala tredjepartsbibliotek"
   ]
  },
  {
   "cell_type": "markdown",
   "id": "e0786435-45c6-47cb-8db0-0db83ae8a764",
   "metadata": {},
   "source": [
    "1. Nedan har vi skapat variablen \"my_array\". Använd den för att skriva nedanstående kod och förklara vad som sker:\n",
    "   \n",
    "   a) print(my_array.shape)\n",
    "\n",
    "   b) print(my_array.size)\n",
    "\n",
    "   c) print(my_array.mean())\n",
    "\n",
    "   d) print(my_array.mean(axis=0))\n",
    "\n",
    "   e) print(my_array.mean(axis=1))\n",
    "\n",
    "   f) print(my_array.max())\n",
    "\n",
    "   g) print(my_array.max(axis=0))\n",
    "\n",
    "   h) print(my_array.max(axis=1))"
   ]
  },
  {
   "cell_type": "code",
   "execution_count": null,
   "id": "46b777ad-83de-4fc3-b39a-9859a743c4ba",
   "metadata": {},
   "outputs": [],
   "source": [
    "import numpy as np\n",
    "\n",
    "my_array = np.arange(15).reshape(3, 5)\n",
    "print(my_array)"
   ]
  },
  {
   "cell_type": "code",
   "execution_count": null,
   "id": "ae4f8af9-2e19-4c50-9cbe-714f9e9d485a",
   "metadata": {},
   "outputs": [],
   "source": []
  },
  {
   "cell_type": "markdown",
   "id": "eb726f5f-05c1-4651-8715-42efde9c9b92",
   "metadata": {},
   "source": [
    "2. Nedan har vi skapat variablen \"my_df\". Använd den för att skriva nedanstående kod och förklara vad som sker:\n",
    "\n",
    "   a) print(my_df.dtypes)\n",
    "\n",
    "   b) print(my_df.head(3))\n",
    "\n",
    "   c) my_df.loc[2:4, ['Name', 'Salary']]\n",
    "\n",
    "   d) my_df.loc[:, 'Name']\n",
    "\n",
    "   e) print(my_df[\"Salary\"].mean())\n",
    "\n",
    "   f) print(my_df[\"Salary\"].min())\n",
    "\n",
    "   g) print(my_df.describe())\n"
   ]
  },
  {
   "cell_type": "code",
   "execution_count": null,
   "id": "e7e394c6-c7eb-49a8-bc73-984c78888ad6",
   "metadata": {},
   "outputs": [],
   "source": [
    "import pandas as pd\n",
    "\n",
    "# Sample data\n",
    "data = {\n",
    "    \"EmployeeID\": [101, 102, 103, 104, 105],\n",
    "    \"Name\": [\"Alice\", \"Bob\", \"Charlie\", \"David\", \"Eve\"],\n",
    "    \"Department\": [\"HR\", \"IT\", \"Finance\", \"IT\", \"HR\"],\n",
    "    \"Salary\": [60000, 70000, 80000, 65000, 72000],\n",
    "    \"HireDate\": pd.to_datetime([\"2023-01-10\", \"2018-02-20\", \"2021-03-15\", \"2001-04-25\", \"2016-05-30\"]),\n",
    "    \"FullTime\": [True, True, False, True, False]\n",
    "}\n",
    "\n",
    "# Creating the DataFrame\n",
    "my_df = pd.DataFrame(data)\n",
    "\n",
    "# Display the DataFrame\n",
    "my_df"
   ]
  },
  {
   "cell_type": "code",
   "execution_count": null,
   "id": "140d6c9b-12e5-4fe3-a5e1-d9a473685f5e",
   "metadata": {},
   "outputs": [],
   "source": []
  },
  {
   "cell_type": "markdown",
   "id": "9b9827fa-935d-4e90-be66-9a2aef6161c6",
   "metadata": {},
   "source": [
    "3. Matplotlib kan användas genom två olika gränssnitt, det explicita objektorienterade och det implicita funktionella. Vilket sätt är det rekommenderade? "
   ]
  },
  {
   "cell_type": "code",
   "execution_count": null,
   "id": "9e56e5ea-42f5-4f7b-8aea-fdf8e82f084a",
   "metadata": {},
   "outputs": [],
   "source": []
  },
  {
   "cell_type": "markdown",
   "id": "c3f67707-4980-405b-8c26-23cf45b081cc",
   "metadata": {},
   "source": [
    "4. Förklara vad nedanstående kod gör. "
   ]
  },
  {
   "cell_type": "code",
   "execution_count": null,
   "id": "28f4ef05-81b2-42c0-aee7-276c58870647",
   "metadata": {},
   "outputs": [],
   "source": [
    "import numpy as np\n",
    "import matplotlib.pyplot as plt\n",
    "\n",
    "x = np.linspace(-4, 4, 10)\n",
    "y = x**2\n",
    "\n",
    "fig, ax = plt.subplots()\n",
    "ax.plot(x, y, '*-')\n",
    "ax.set_title('y = x^2')\n",
    "ax.set_xlabel('x')\n",
    "ax.set_ylabel('y')"
   ]
  },
  {
   "cell_type": "code",
   "execution_count": null,
   "id": "3087e802-ec8f-4372-afc2-cbc56e65fea9",
   "metadata": {},
   "outputs": [],
   "source": []
  },
  {
   "cell_type": "markdown",
   "id": "0af1338b-8c2c-4d28-a003-04308039c955",
   "metadata": {},
   "source": [
    "5. Nedan har vi simulerat fram data. Du skall nu skapa en figur som innehåller två visualiseringar, det skall vara en rad och två kolumner. Din kod kommer alltså innehålla följande kod: \"fig, axs = plt.subplots(1, 2)\".\n",
    " \n",
    "   I första visualiseringen, skapa ett spridningsdiagram med hjälp av \"scatter_data_x\" och \"scatter_data_y\". I andra visualiseringen skapa ett stapel diagram med hjälp av \"category\" och \"values\". "
   ]
  },
  {
   "cell_type": "code",
   "execution_count": null,
   "id": "5c9c2fa8-f043-44c1-b616-1fa7ffb62c84",
   "metadata": {},
   "outputs": [],
   "source": [
    "# Simulated data\n",
    "np.random.seed(15)\n",
    "\n",
    "# This data is for the scatter plot\n",
    "scatter_data_x = np.random.randn(1000)\n",
    "scatter_data_y = np.random.randn(1000)\n",
    "\n",
    "# This data is for the bar plot\n",
    "fruit_data = {'grapes': 22, 'apple': 8, 'orange': 15, 'lemon': 20, 'lime': 25}\n",
    "category = list(fruit_data.keys())\n",
    "values = list(fruit_data.values())"
   ]
  },
  {
   "cell_type": "code",
   "execution_count": null,
   "id": "786c1b0b-eb07-46ad-8a65-8a0569d40d7a",
   "metadata": {},
   "outputs": [],
   "source": []
  }
 ],
 "metadata": {
  "kernelspec": {
   "display_name": "Python 3 (ipykernel)",
   "language": "python",
   "name": "python3"
  },
  "language_info": {
   "codemirror_mode": {
    "name": "ipython",
    "version": 3
   },
   "file_extension": ".py",
   "mimetype": "text/x-python",
   "name": "python",
   "nbconvert_exporter": "python",
   "pygments_lexer": "ipython3",
   "version": "3.9.18"
  }
 },
 "nbformat": 4,
 "nbformat_minor": 5
}
