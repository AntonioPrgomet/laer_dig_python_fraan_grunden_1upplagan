{
 "cells": [
  {
   "cell_type": "markdown",
   "id": "99fdf965-6382-4144-b08f-30fea759de05",
   "metadata": {},
   "source": [
    "# Uppgifter, Kapitel 13 - Exempelprojekt"
   ]
  },
  {
   "cell_type": "markdown",
   "id": "796283db-be36-4d2d-abd2-f8e147f182eb",
   "metadata": {},
   "source": [
    "1. Ett bra och roligt sätt att fortsätta utvecklas i Python är att antingen hitta olika projekt t.ex. via internet som man gör eller tänker ut något projekt som man hade velat göra och därefter lära sig det som behövs under vägen för att slutföra projektet. Gå ut på internet och hitta ett projekt som du tycker verkar spännande och försök att göra det. "
   ]
  },
  {
   "cell_type": "code",
   "execution_count": null,
   "id": "ae8d83aa-092a-40c1-b328-0a9b45cfa6df",
   "metadata": {},
   "outputs": [],
   "source": []
  }
 ],
 "metadata": {
  "kernelspec": {
   "display_name": "Python 3 (ipykernel)",
   "language": "python",
   "name": "python3"
  },
  "language_info": {
   "codemirror_mode": {
    "name": "ipython",
    "version": 3
   },
   "file_extension": ".py",
   "mimetype": "text/x-python",
   "name": "python",
   "nbconvert_exporter": "python",
   "pygments_lexer": "ipython3",
   "version": "3.9.18"
  }
 },
 "nbformat": 4,
 "nbformat_minor": 5
}
